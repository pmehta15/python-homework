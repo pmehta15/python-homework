{
 "cells": [
  {
   "cell_type": "markdown",
   "id": "4dee4b7a-1c0f-4faf-9db9-2ffddc0fc486",
   "metadata": {},
   "source": [
    "In this activity, you are tasked with creating a Python script for analyzing the financial records of your company. You will be provided with a financial dataset in this file: [budget_data.csv](PyBank/Resources/budget_data.csv). This dataset is composed of two columns, Date and Profit/Losses. (Thankfully, your company has rather lax standards for accounting, so the records are simple.)\n",
    "\n",
    "Your task is to create a Python script that analyzes the records to calculate each of the following:\n",
    "\n",
    "* The total number of months included in the dataset.\n",
    "\n",
    "* The net total amount of Profit/Losses over the entire period.\n",
    "\n",
    "* The average of the changes in Profit/Losses over the entire period.\n",
    "\n",
    "* The greatest increase in profits (date and amount) over the entire period.\n",
    "\n",
    "* The greatest decrease in losses (date and amount) over the entire period.\n",
    "\n",
    "Your resulting analysis should look similar to the following:\n",
    "\n",
    "  ```text\n",
    "  Financial Analysis\n",
    "  ----------------------------\n",
    "  Total Months: 86\n",
    "  Total: $38382578\n",
    "  Average  Change: $-2315.12\n",
    "  Greatest Increase in Profits: Feb-2012 ($1926159)\n",
    "  Greatest Decrease in Profits: Sep-2013 ($-2196167)\n",
    "  ```\n",
    "\n",
    "Your final script should print the analysis to the terminal and export a text file with the results.\n"
   ]
  },
  {
   "cell_type": "code",
   "execution_count": 42,
   "id": "996fc122-cee9-4f9b-bc27-e37306bf50ef",
   "metadata": {
    "tags": []
   },
   "outputs": [],
   "source": [
    "#PYBANK ANALYSIS\n",
    "\n",
    "import csv\n",
    "\n",
    "# Path to the CSV file\n",
    "file_path= \"Desktop/python-homework/PyBank/budget_data.csv\"\n"
   ]
  },
  {
   "cell_type": "code",
   "execution_count": 39,
   "id": "eac6fd5a-a40a-42c4-b9df-dfbe1bf579db",
   "metadata": {},
   "outputs": [],
   "source": [
    "# Initialize variables for analysis\n",
    "total_months = 0\n",
    "net_total = 0\n",
    "changes = []\n",
    "dates = []"
   ]
  },
  {
   "cell_type": "code",
   "execution_count": 41,
   "id": "aa41f270-647d-4f97-b5a0-7c4218511544",
   "metadata": {
    "tags": []
   },
   "outputs": [
    {
     "ename": "FileNotFoundError",
     "evalue": "[Errno 2] No such file or directory: 'Desktop/python-homework/PyBank/budget_data.csv'",
     "output_type": "error",
     "traceback": [
      "\u001b[0;31m---------------------------------------------------------------------------\u001b[0m",
      "\u001b[0;31mFileNotFoundError\u001b[0m                         Traceback (most recent call last)",
      "Cell \u001b[0;32mIn[41], line 2\u001b[0m\n\u001b[1;32m      1\u001b[0m \u001b[38;5;66;03m# Open the CSV file and perform analysis\u001b[39;00m\n\u001b[0;32m----> 2\u001b[0m \u001b[38;5;28;01mwith\u001b[39;00m \u001b[38;5;28mopen\u001b[39m(file_path, \u001b[38;5;124m'\u001b[39m\u001b[38;5;124mr\u001b[39m\u001b[38;5;124m'\u001b[39m) \u001b[38;5;28;01mas\u001b[39;00m file:\n\u001b[1;32m      3\u001b[0m     \u001b[38;5;66;03m# Skip the header row\u001b[39;00m\n\u001b[1;32m      4\u001b[0m     \u001b[38;5;28mnext\u001b[39m(file)\n",
      "File \u001b[0;32m~/anaconda3/lib/python3.11/site-packages/IPython/core/interactiveshell.py:310\u001b[0m, in \u001b[0;36m_modified_open\u001b[0;34m(file, *args, **kwargs)\u001b[0m\n\u001b[1;32m    303\u001b[0m \u001b[38;5;28;01mif\u001b[39;00m file \u001b[38;5;129;01min\u001b[39;00m {\u001b[38;5;241m0\u001b[39m, \u001b[38;5;241m1\u001b[39m, \u001b[38;5;241m2\u001b[39m}:\n\u001b[1;32m    304\u001b[0m     \u001b[38;5;28;01mraise\u001b[39;00m \u001b[38;5;167;01mValueError\u001b[39;00m(\n\u001b[1;32m    305\u001b[0m         \u001b[38;5;124mf\u001b[39m\u001b[38;5;124m\"\u001b[39m\u001b[38;5;124mIPython won\u001b[39m\u001b[38;5;124m'\u001b[39m\u001b[38;5;124mt let you open fd=\u001b[39m\u001b[38;5;132;01m{\u001b[39;00mfile\u001b[38;5;132;01m}\u001b[39;00m\u001b[38;5;124m by default \u001b[39m\u001b[38;5;124m\"\u001b[39m\n\u001b[1;32m    306\u001b[0m         \u001b[38;5;124m\"\u001b[39m\u001b[38;5;124mas it is likely to crash IPython. If you know what you are doing, \u001b[39m\u001b[38;5;124m\"\u001b[39m\n\u001b[1;32m    307\u001b[0m         \u001b[38;5;124m\"\u001b[39m\u001b[38;5;124myou can use builtins\u001b[39m\u001b[38;5;124m'\u001b[39m\u001b[38;5;124m open.\u001b[39m\u001b[38;5;124m\"\u001b[39m\n\u001b[1;32m    308\u001b[0m     )\n\u001b[0;32m--> 310\u001b[0m \u001b[38;5;28;01mreturn\u001b[39;00m io_open(file, \u001b[38;5;241m*\u001b[39margs, \u001b[38;5;241m*\u001b[39m\u001b[38;5;241m*\u001b[39mkwargs)\n",
      "\u001b[0;31mFileNotFoundError\u001b[0m: [Errno 2] No such file or directory: 'Desktop/python-homework/PyBank/budget_data.csv'"
     ]
    }
   ],
   "source": [
    "\n",
    "# Open the CSV file and perform analysis\n",
    "with open(file_path, 'r') as file:\n",
    "    # Skip the header row\n",
    "    next(file)"
   ]
  },
  {
   "cell_type": "code",
   "execution_count": 23,
   "id": "d5c05b98-990c-4760-9b9b-9668cce08d9e",
   "metadata": {
    "tags": []
   },
   "outputs": [
    {
     "ename": "IndentationError",
     "evalue": "unexpected indent (713618999.py, line 2)",
     "output_type": "error",
     "traceback": [
      "\u001b[0;36m  Cell \u001b[0;32mIn[23], line 2\u001b[0;36m\u001b[0m\n\u001b[0;31m    previous_profit_loss = None\u001b[0m\n\u001b[0m    ^\u001b[0m\n\u001b[0;31mIndentationError\u001b[0m\u001b[0;31m:\u001b[0m unexpected indent\n"
     ]
    }
   ],
   "source": [
    "# Initialize variables for tracking changes\n",
    "    previous_profit_loss = None\n",
    "    greatest_increase = {\"amount\": 0, \"date\": \"\"}\n",
    "    greatest_decrease = {\"amount\": 0, \"date\": \"\"}\n",
    "\n",
    "    # Loop through each row in the dataset\n",
    "    for line in file:\n",
    "        # Split the row into date and profit/loss value\n",
    "        date, profit_loss = line.strip().split(',')\n",
    "\n",
    "        # Convert profit/loss value to an integer\n",
    "        profit_loss = int(profit_loss)\n",
    "\n",
    "        # Update total months and net total\n",
    "        total_months += 1\n",
    "        net_total += profit_loss\n",
    "\n",
    "        # Record change in profit/loss from previous month\n",
    "        if previous_profit_loss is not None:\n",
    "            change = profit_loss - previous_profit_loss\n",
    "            changes.append(change)\n",
    "            dates.append(date)\n",
    "\n",
    "            # Check for greatest increase and decrease in profits\n",
    "            if change > greatest_increase[\"amount\"]:\n",
    "                greatest_increase[\"amount\"] = change\n",
    "                greatest_increase[\"date\"] = date\n",
    "            elif change < greatest_decrease[\"amount\"]:\n",
    "                greatest_decrease[\"amount\"] = change\n",
    "                greatest_decrease[\"date\"] = date\n",
    "\n",
    "        # Store current profit/loss for next iteration\n",
    "        previous_profit_loss = profit_loss\n",
    "\n",
    "# Calculate average change\n",
    "average_change = sum(changes) / len(changes)\n",
    "\n",
    "# Print analysis results\n",
    "print(\"Financial Analysis\")\n",
    "print(\"------------------\")\n",
    "print(f\"Total Months: {total_months}\")\n",
    "print(f\"Total: ${net_total}\")\n",
    "print(f\"Average Change: ${average_change:.2f}\")\n",
    "print(f\"Greatest Increase in Profits: {greatest_increase['date']} (${greatest_increase['amount']})\")\n",
    "print(f\"Greatest Decrease in Losses: {greatest_decrease['date']} (${greatest_decrease['amount']})\")\n"
   ]
  },
  {
   "cell_type": "code",
   "execution_count": null,
   "id": "3b6fb659-f16e-4110-b91c-449bbe254100",
   "metadata": {},
   "outputs": [],
   "source": []
  },
  {
   "cell_type": "code",
   "execution_count": null,
   "id": "3c9b80c8-26c2-4106-b30e-288da71e4a4e",
   "metadata": {},
   "outputs": [],
   "source": []
  }
 ],
 "metadata": {
  "kernelspec": {
   "display_name": "Python 3 (ipykernel)",
   "language": "python",
   "name": "python3"
  },
  "language_info": {
   "codemirror_mode": {
    "name": "ipython",
    "version": 3
   },
   "file_extension": ".py",
   "mimetype": "text/x-python",
   "name": "python",
   "nbconvert_exporter": "python",
   "pygments_lexer": "ipython3",
   "version": "3.11.5"
  }
 },
 "nbformat": 4,
 "nbformat_minor": 5
}
