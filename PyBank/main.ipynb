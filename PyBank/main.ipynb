{
 "cells": [
  {
   "cell_type": "markdown",
   "id": "4dee4b7a-1c0f-4faf-9db9-2ffddc0fc486",
   "metadata": {},
   "source": [
    "In this activity, you are tasked with creating a Python script for analyzing the financial records of your company. You will be provided with a financial dataset in this file: [budget_data.csv](PyBank/Resources/budget_data.csv). This dataset is composed of two columns, Date and Profit/Losses. (Thankfully, your company has rather lax standards for accounting, so the records are simple.)\n",
    "\n",
    "Your task is to create a Python script that analyzes the records to calculate each of the following:\n",
    "\n",
    "* The total number of months included in the dataset.\n",
    "\n",
    "* The net total amount of Profit/Losses over the entire period.\n",
    "\n",
    "* The average of the changes in Profit/Losses over the entire period.\n",
    "\n",
    "* The greatest increase in profits (date and amount) over the entire period.\n",
    "\n",
    "* The greatest decrease in losses (date and amount) over the entire period.\n",
    "\n",
    "Your resulting analysis should look similar to the following:\n",
    "\n",
    "  ```text\n",
    "  Financial Analysis\n",
    "  ----------------------------\n",
    "  Total Months: 86\n",
    "  Total: $38382578\n",
    "  Average  Change: $-2315.12\n",
    "  Greatest Increase in Profits: Feb-2012 ($1926159)\n",
    "  Greatest Decrease in Profits: Sep-2013 ($-2196167)\n",
    "  ```\n",
    "\n",
    "Your final script should print the analysis to the terminal and export a text file with the results.\n"
   ]
  },
  {
   "cell_type": "code",
   "execution_count": 90,
   "id": "996fc122-cee9-4f9b-bc27-e37306bf50ef",
   "metadata": {
    "tags": []
   },
   "outputs": [],
   "source": [
    "#PYBANK ANALYSIS\n",
    "\n",
    "import pandas as pd\n",
    "import numpy as np\n"
   ]
  },
  {
   "cell_type": "code",
   "execution_count": 3,
   "id": "07742889-5a2c-491a-ba4f-33104c75192e",
   "metadata": {
    "tags": []
   },
   "outputs": [],
   "source": [
    "budget = pd.read_csv(\"budget_data.csv\")"
   ]
  },
  {
   "cell_type": "code",
   "execution_count": 4,
   "id": "2310259b-00b6-4c3b-92ab-bfa63286c6aa",
   "metadata": {
    "tags": []
   },
   "outputs": [
    {
     "data": {
      "text/plain": [
       "<bound method NDFrame.head of         Date  Profit/Losses\n",
       "0   Jan-2010         867884\n",
       "1   Feb-2010         984655\n",
       "2   Mar-2010         322013\n",
       "3   Apr-2010         -69417\n",
       "4   May-2010         310503\n",
       "..       ...            ...\n",
       "81  Oct-2016         102685\n",
       "82  Nov-2016         795914\n",
       "83  Dec-2016          60988\n",
       "84  Jan-2017         138230\n",
       "85  Feb-2017         671099\n",
       "\n",
       "[86 rows x 2 columns]>"
      ]
     },
     "execution_count": 4,
     "metadata": {},
     "output_type": "execute_result"
    }
   ],
   "source": [
    "budget.head"
   ]
  },
  {
   "cell_type": "code",
   "execution_count": 21,
   "id": "97eacef0-36e0-419c-aede-4d72fc0f7f0c",
   "metadata": {
    "tags": []
   },
   "outputs": [
    {
     "name": "stdout",
     "output_type": "stream",
     "text": [
      "86\n"
     ]
    }
   ],
   "source": [
    "# The total number of months included in the dataset.\n",
    "\n",
    "n_months = budget[\"Date\"].nunique()\n",
    "print(n_months)"
   ]
  },
  {
   "cell_type": "code",
   "execution_count": 22,
   "id": "1693fdab-ff86-4760-93bc-c843ba0700da",
   "metadata": {
    "tags": []
   },
   "outputs": [
    {
     "name": "stdout",
     "output_type": "stream",
     "text": [
      "$ 38382578\n"
     ]
    }
   ],
   "source": [
    "#The net total amount of Profit/Losses over the entire period.\n",
    "\n",
    "Profit_loss = budget[\"Profit/Losses\"].sum()\n",
    "print(\"$\",Profit_loss)\n"
   ]
  },
  {
   "cell_type": "code",
   "execution_count": 27,
   "id": "23696047-0674-4654-a673-423daee351ab",
   "metadata": {
    "tags": []
   },
   "outputs": [
    {
     "name": "stdout",
     "output_type": "stream",
     "text": [
      "-2315.1176470588234\n"
     ]
    }
   ],
   "source": [
    "#The average of the changes in Profit/Losses over the entire period.\n",
    "\n",
    "profit_1 = budget[\"Profit/Losses\"][0]\n",
    "profit_n = budget[\"Profit/Losses\"][85]\n",
    "\n",
    "avr_change = (profit_n - profit_1)/(n_months-1)\n",
    "print(avr_change)"
   ]
  },
  {
   "cell_type": "code",
   "execution_count": 74,
   "id": "41385d17-3174-4dbb-a78b-bd8a616b5e3c",
   "metadata": {
    "tags": []
   },
   "outputs": [
    {
     "name": "stdout",
     "output_type": "stream",
     "text": [
      "['Feb-2012' 1170593]\n"
     ]
    }
   ],
   "source": [
    "#The greatest increase in profits (date and amount) over the entire period\n",
    "\n",
    "highest_profit = budget['Profit/Losses'].idxmax()\n",
    "#print(highest_profit)\n",
    "\n",
    "high = budget.loc[highest_profit,].values[[0,1]]\n",
    "print(high)\n",
    "\n",
    "\n",
    "result1 = \"Greatest Increase in Profits:{},${}\"\n"
   ]
  },
  {
   "cell_type": "code",
   "execution_count": 78,
   "id": "a7f063d3-f32c-4336-a76d-b6e34d4c21bc",
   "metadata": {
    "tags": []
   },
   "outputs": [
    {
     "name": "stdout",
     "output_type": "stream",
     "text": [
      "['Sep-2013' -1196225]\n"
     ]
    }
   ],
   "source": [
    "#The greatest decrease in losses (date and amount) over the entire period.\n",
    "\n",
    "highest_loss = budget['Profit/Losses'].idxmin()\n",
    "\n",
    "low = budget.loc[highest_loss,].values[[0,1]]\n",
    "print(low)\n",
    "\n",
    "result2 = \"Greatest Decrease in Profits:{},${}\""
   ]
  },
  {
   "cell_type": "code",
   "execution_count": 85,
   "id": "f7363148-5290-4035-b160-cdc7e14fff02",
   "metadata": {
    "tags": []
   },
   "outputs": [
    {
     "name": "stdout",
     "output_type": "stream",
     "text": [
      "Financial Analysis\n",
      "\n",
      "Total Months:  86\n",
      "Total: $ 38382578\n",
      "Average  Change: $ -2315.1176470588234\n",
      "Greatest Increase in Profits:Feb-2012,$1170593\n",
      "Greatest Decrease in Profits:Sep-2013,$-1196225\n"
     ]
    }
   ],
   "source": [
    "print(\"Financial Analysis\")\n",
    "print(end =\"\\n\")\n",
    "print(\"Total Months: \",n_months)\n",
    "print(\"Total: $\",Profit_loss)\n",
    "print(\"Average  Change: $\" , avr_change)\n",
    "print(result1.format(high[0],high[1]))\n",
    "print(result2.format(low[0],low[1]))\n"
   ]
  },
  {
   "cell_type": "code",
   "execution_count": 95,
   "id": "8ebe0532-98c8-4fb1-a90a-44145afe8d6c",
   "metadata": {
    "tags": []
   },
   "outputs": [],
   "source": [
    "output_file_path = \"analysis_results.txt\"\n",
    "with open(output_file_path, \"w\") as file:\n",
    "    file.write(\"Financial Analysis\\n\")\n",
    "    file.write(\"\\n\")\n",
    "    file.write(\"Total Months: \" + str(n_months) + \"\\n\")\n",
    "    file.write(\"Total: $\" + str(Profit_loss) + \"\\n\")\n",
    "    file.write(\"Average Change: $\" + str(avr_change) + \"\\n\")\n",
    "    file.write(result1.format(high[0],high[1])+ \"\\n\")\n",
    "    file.write((result2.format(low[0],low[1])))"
   ]
  },
  {
   "cell_type": "code",
   "execution_count": null,
   "id": "eac6fd5a-a40a-42c4-b9df-dfbe1bf579db",
   "metadata": {},
   "outputs": [],
   "source": []
  }
 ],
 "metadata": {
  "kernelspec": {
   "display_name": "Python 3 (ipykernel)",
   "language": "python",
   "name": "python3"
  },
  "language_info": {
   "codemirror_mode": {
    "name": "ipython",
    "version": 3
   },
   "file_extension": ".py",
   "mimetype": "text/x-python",
   "name": "python",
   "nbconvert_exporter": "python",
   "pygments_lexer": "ipython3",
   "version": "3.11.5"
  }
 },
 "nbformat": 4,
 "nbformat_minor": 5
}
