{
 "cells": [
  {
   "cell_type": "markdown",
   "id": "e4b66ab3-8be3-4352-a6ed-e4aeb59f029d",
   "metadata": {},
   "source": [
    "In this activity, you are tasked with creating a Python script for analyzing the financial records of your company. You will be provided with a financial dataset in this file: [budget_data.csv](PyBank/Resources/budget_data.csv). This dataset is composed of two columns, Date and Profit/Losses. (Thankfully, your company has rather lax standards for accounting, so the records are simple.)\n",
    "\n",
    "Your task is to create a Python script that analyzes the records to calculate each of the following:\n",
    "\n",
    "* The total number of months included in the dataset.\n",
    "\n",
    "* The net total amount of Profit/Losses over the entire period.\n",
    "\n",
    "* The average of the changes in Profit/Losses over the entire period.\n",
    "\n",
    "* The greatest increase in profits (date and amount) over the entire period.\n",
    "\n",
    "* The greatest decrease in losses (date and amount) over the entire period.\n",
    "\n",
    "Your resulting analysis should look similar to the following:\n",
    "\n",
    "  ```text\n",
    "  Financial Analysis\n",
    "  ----------------------------\n",
    "  Total Months: 86\n",
    "  Total: $38382578\n",
    "  Average  Change: $-2315.12\n",
    "  Greatest Increase in Profits: Feb-2012 ($1926159)\n",
    "  Greatest Decrease in Profits: Sep-2013 ($-2196167)\n",
    "  ```\n",
    "\n",
    "Your final script should print the analysis to the terminal and export a text file with the results.\n"
   ]
  },
  {
   "cell_type": "code",
   "execution_count": 19,
   "id": "eeb79018-c790-4064-b20c-4f9dbc04c225",
   "metadata": {
    "tags": []
   },
   "outputs": [],
   "source": [
    "import csv\n",
    "\n",
    "# Path to the input CSV file\n",
    "file_path = \"budget_data.csv\"\n"
   ]
  },
  {
   "cell_type": "code",
   "execution_count": 20,
   "id": "b4e88bf7-905e-47c9-a6f8-dc120382a519",
   "metadata": {
    "tags": []
   },
   "outputs": [],
   "source": [
    "# Initialize variables for analysis\n",
    "total_months = 0\n",
    "net_total = 0\n",
    "previous_profit_loss = None\n",
    "total_change = 0\n",
    "greatest_increase = {\"amount\": 0, \"date\": \"\"}\n",
    "greatest_decrease = {\"amount\": 0, \"date\": \"\"}\n",
    "changes = []\n"
   ]
  },
  {
   "cell_type": "code",
   "execution_count": 21,
   "id": "b9a9a646-4234-44fe-9c5c-f270292b57d2",
   "metadata": {
    "tags": []
   },
   "outputs": [],
   "source": [
    "# Read the CSV file and perform analysis\n",
    "with open(file_path, 'r') as file:\n",
    "    csvreader = csv.reader(file, delimiter=',')\n",
    "    next(csvreader)  # Skip the header row\n",
    "\n",
    "    for row in csvreader:\n",
    "        # Extract date and profit/loss value from the row\n",
    "        date = row[0]\n",
    "        profit_loss = int(row[1])\n",
    "\n",
    "        # Calculate total number of months and net total amount\n",
    "        total_months += 1\n",
    "        net_total += profit_loss\n",
    "\n",
    "        # Calculate change in profit/loss from previous month\n",
    "        if previous_profit_loss is not None:\n",
    "            change = profit_loss - previous_profit_loss\n",
    "            total_change += change\n",
    "            changes.append(change)\n",
    "\n",
    "            # Check for greatest increase and decrease in profits\n",
    "            if change > greatest_increase[\"amount\"]:\n",
    "                greatest_increase[\"amount\"] = change\n",
    "                greatest_increase[\"date\"] = date\n",
    "            elif change < greatest_decrease[\"amount\"]:\n",
    "                greatest_decrease[\"amount\"] = change\n",
    "                greatest_decrease[\"date\"] = date\n",
    "\n",
    "        # Store current profit/loss for next iteration\n",
    "        previous_profit_loss = profit_loss\n"
   ]
  },
  {
   "cell_type": "code",
   "execution_count": 22,
   "id": "c4b0bc33-2a78-4c30-8644-0ea4e74a6e6c",
   "metadata": {
    "tags": []
   },
   "outputs": [],
   "source": [
    "# Calculate average change\n",
    "average_change = total_change / (total_months - 1)\n"
   ]
  },
  {
   "cell_type": "code",
   "execution_count": 23,
   "id": "9da942e8-dc14-45af-a4eb-077c76e5d5f8",
   "metadata": {
    "tags": []
   },
   "outputs": [
    {
     "name": "stdout",
     "output_type": "stream",
     "text": [
      "Financial Analysis\n",
      "----------------------------\n",
      "Total Months: 86\n",
      "Total: $38382578\n",
      "Average Change: $-2315.12\n",
      "Greatest Increase in Profits: Feb-2012 ($1926159)\n",
      "Greatest Decrease in Losses: Sep-2013 ($-2196167)\n"
     ]
    }
   ],
   "source": [
    "# Print analysis results to the terminal\n",
    "print(\"Financial Analysis\")\n",
    "print(\"----------------------------\")\n",
    "print(f\"Total Months: {total_months}\")\n",
    "print(f\"Total: ${net_total}\")\n",
    "print(f\"Average Change: ${average_change:.2f}\")\n",
    "print(f\"Greatest Increase in Profits: {greatest_increase['date']} (${greatest_increase['amount']})\")\n",
    "print(f\"Greatest Decrease in Losses: {greatest_decrease['date']} (${greatest_decrease['amount']})\")\n"
   ]
  },
  {
   "cell_type": "code",
   "execution_count": 24,
   "id": "27b0080b-6f66-479e-ac8a-b8f22569a09b",
   "metadata": {
    "tags": []
   },
   "outputs": [
    {
     "name": "stdout",
     "output_type": "stream",
     "text": [
      "Analysis results have been exported to financial_analysis.txt\n"
     ]
    }
   ],
   "source": [
    "# Export analysis results to a text file\n",
    "output_file = \"financial_analysis.txt\"\n",
    "with open(output_file, 'w') as file:\n",
    "    file.write(\"Financial Analysis\\n\")\n",
    "    file.write(\"----------------------------\\n\")\n",
    "    file.write(f\"Total Months: {total_months}\\n\")\n",
    "    file.write(f\"Total: ${net_total}\\n\")\n",
    "    file.write(f\"Average Change: ${average_change:.2f}\\n\")\n",
    "    file.write(f\"Greatest Increase in Profits: {greatest_increase['date']} (${greatest_increase['amount']})\\n\")\n",
    "    file.write(f\"Greatest Decrease in Losses: {greatest_decrease['date']} (${greatest_decrease['amount']})\\n\")\n",
    "\n",
    "print(f\"Analysis results have been exported to {output_file}\")\n"
   ]
  },
  {
   "cell_type": "code",
   "execution_count": null,
   "id": "211f4b40-fd6e-4c1f-9f58-463ccaa9ff24",
   "metadata": {},
   "outputs": [],
   "source": []
  }
 ],
 "metadata": {
  "kernelspec": {
   "display_name": "Python 3 (ipykernel)",
   "language": "python",
   "name": "python3"
  },
  "language_info": {
   "codemirror_mode": {
    "name": "ipython",
    "version": 3
   },
   "file_extension": ".py",
   "mimetype": "text/x-python",
   "name": "python",
   "nbconvert_exporter": "python",
   "pygments_lexer": "ipython3",
   "version": "3.11.5"
  }
 },
 "nbformat": 4,
 "nbformat_minor": 5
}
